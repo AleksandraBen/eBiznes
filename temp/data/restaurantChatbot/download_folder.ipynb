{
 "cells": [
  {
   "cell_type": "markdown",
   "id": "586a4b68",
   "metadata": {},
   "source": [
    "[Download File](/home/codete/workshop/oreilly-intelligent-bots/restaurantChatbot.tar.gz)"
   ]
  },
  {
   "cell_type": "code",
   "execution_count": null,
   "id": "b0efccb1",
   "metadata": {},
   "outputs": [],
   "source": []
  }
 ],
 "metadata": {
  "kernelspec": {
   "display_name": "Python 3",
   "language": "python",
   "name": "python3"
  },
  "language_info": {
   "codemirror_mode": {
    "name": "ipython",
    "version": 3
   },
   "file_extension": ".py",
   "mimetype": "text/x-python",
   "name": "python",
   "nbconvert_exporter": "python",
   "pygments_lexer": "ipython3",
   "version": "3.6.9"
  }
 },
 "nbformat": 4,
 "nbformat_minor": 5
}
